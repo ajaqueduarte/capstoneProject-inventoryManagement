{
 "cells": [
  {
   "cell_type": "code",
   "execution_count": 46,
   "metadata": {},
   "outputs": [],
   "source": [
    "import os\n",
    "import pandas as pd\n",
    "import openpyxl\n",
    "from datetime import datetime\n",
    "\n",
    "# Directory paths\n",
    "sales_mix_directory = 'sales_mix'\n",
    "\n",
    "# Dictionary to hold the data with products as keys\n",
    "products_data = {}\n",
    "\n",
    "# Assume the data from December belongs to the previous year\n",
    "current_year = datetime.now().year\n",
    "previous_year = current_year - 1"
   ]
  },
  {
   "cell_type": "code",
   "execution_count": 47,
   "metadata": {},
   "outputs": [
    {
     "name": "stderr",
     "output_type": "stream",
     "text": [
      "/Users/jaqueduarte/anaconda3/lib/python3.11/site-packages/openpyxl/styles/stylesheet.py:226: UserWarning: Workbook contains no default style, apply openpyxl's default\n",
      "  warn(\"Workbook contains no default style, apply openpyxl's default\")\n"
     ]
    }
   ],
   "source": [
    "# Process each file\n",
    "for file_name in os.listdir(sales_mix_directory):\n",
    "    if file_name.endswith('.xlsx'):\n",
    "        file_path = os.path.join(sales_mix_directory, file_name)\n",
    "        wb = openpyxl.load_workbook(file_path, data_only=True)\n",
    "        ws = wb.active\n",
    "\n",
    "        # Find the header row\n",
    "        header_row_idx = None\n",
    "        for rowIndex, row in enumerate(ws.iter_rows(values_only=True), start=1):\n",
    "            if 'Name' in row and 'Quantity Sold' in row:\n",
    "                header_row_idx = rowIndex\n",
    "                headers = [cell for cell in row if cell is not None]\n",
    "                name_idx = headers.index('Name')\n",
    "                quantity_sold_idx = headers.index('Quantity Sold')\n",
    "                break\n",
    "\n",
    "        if header_row_idx is None:\n",
    "            raise ValueError(f\"'Name' and 'Quantity Sold' columns not found in the file: {file_name}\")\n",
    "\n",
    "        # Parse the date from the filename and adjust the year\n",
    "        date_str = ' '.join(file_name.split(' ')[2:4]).replace(' - Copy', '')\n",
    "        date_obj = datetime.strptime(date_str, '%b %d')\n",
    "        if date_obj.month == 1:  # January of the next year\n",
    "            date_obj = date_obj.replace(year=current_year)\n",
    "        else:  # December of the previous year\n",
    "            date_obj = date_obj.replace(year=previous_year)\n",
    "\n",
    "        # Extracting data for each product\n",
    "        for row in ws.iter_rows(min_row=header_row_idx+1, values_only=True):\n",
    "            product_name = row[name_idx]\n",
    "            quantity_sold = row[quantity_sold_idx] or 0  # Use 0 if None\n",
    "\n",
    "            # Skip products based on names to remove or containing specific patterns\n",
    "            names_to_remove = [\n",
    "                \"Total\", \"Smoothie\", \"Classic\", \"Hi Protein\", \"Spirit\", \"Superfood Plus\",\n",
    "                \"Superfood\", \"Refresh\", \"Combo\", \"Regular Combo\", \"Snack Combo\",\n",
    "                \"Ingredients (Smoothie)\", \"NO BOOSTER\", \"No Froyo\", \"No Yogurt\",\n",
    "                \"Secret/Feature\", \"Specialty\", \"Shot\", \"Condiments (Booster Ball)\",\n",
    "                \"Booster Ball\", \"Booster Blends\", \"Grilled Fresh\", \"Lunch\", \"Breakfast\",\n",
    "                \"Merchandise\", \"Retail\", \"Fresh Juice\", \"Condiments (Fresh Juice)\",\n",
    "                \"Instructions\", \"Condiments (Inst.)\", \"ALLERGY: tree nuts\",\n",
    "                \"No Raspberry\", \"Special Prep\", \"whole wheat\", \"Allergy: \", \"Split In 2 Cups\", \"Don't Make\", \"Almighty Acai Blend\", \"Condiments (Retail/Merchandise)\"\n",
    ", \"Chipotle\"                ]\n",
    "            \n",
    "            if any(pattern.lower() in product_name.lower() for pattern in ['allergy', 'combo', '$', 'add', 'No']):\n",
    "                continue\n",
    "            if product_name in names_to_remove:\n",
    "                continue\n",
    "            \n",
    "            # Add product if not in dict\n",
    "            if product_name not in products_data:\n",
    "                products_data[product_name] = {}\n",
    "            products_data[product_name][date_obj] = quantity_sold\n",
    "\n",
    "            # # Add the quantity sold to the dictionary\n",
    "            # date_obj[date_part][product_name] = date_product_data[date_part].get(product_name, 0) + quantity_sold\n"
   ]
  },
  {
   "cell_type": "code",
   "execution_count": 48,
   "metadata": {},
   "outputs": [],
   "source": [
    "# Sort dates and create DataFrame with product names as columns and dates as rows\n",
    "# Note: this assumes all files have the same set of products. If not, you'll need to merge them differently.\n",
    "sorted_dates = sorted(list(set(date for date_dict in products_data.values() for date in date_dict)))\n",
    "product_sales_df = pd.DataFrame(columns=sorted_dates)\n"
   ]
  },
  {
   "cell_type": "code",
   "execution_count": 49,
   "metadata": {},
   "outputs": [],
   "source": [
    "# Populate the DataFrame with the sales data\n",
    "for product, dates in products_data.items():\n",
    "    for date, quantity in dates.items():\n",
    "        product_sales_df.at[product, date] = quantity"
   ]
  },
  {
   "cell_type": "code",
   "execution_count": 50,
   "metadata": {},
   "outputs": [],
   "source": [
    "# Sort the DataFrame by date (the rows)\n",
    "product_sales_df.sort_index(axis=1, inplace=True)\n"
   ]
  },
  {
   "cell_type": "code",
   "execution_count": 51,
   "metadata": {},
   "outputs": [],
   "source": [
    "# Save the DataFrame to a CSV file\n",
    "\n",
    "output_csv_path = os.path.join('sales_mix_clean_open/combined_sales_data.csv')\n",
    "product_sales_df.to_csv(output_csv_path, index_label='Product Name')\n"
   ]
  },
  {
   "cell_type": "code",
   "execution_count": 52,
   "metadata": {},
   "outputs": [
    {
     "data": {
      "text/plain": [
       "'sales_mix_clean_open/combined_sales_data.json'"
      ]
     },
     "execution_count": 52,
     "metadata": {},
     "output_type": "execute_result"
    }
   ],
   "source": [
    "# Convert the DataFrame to JSON, with product names as keys\n",
    "json_result = product_sales_df.to_json(orient='index', date_format='iso')\n",
    "\n",
    "# Save the JSON result to a file\n",
    "json_output_path = os.path.join('sales_mix_clean_open/combined_sales_data.json')\n",
    "with open(json_output_path, 'w') as json_file:\n",
    "    json_file.write(json_result)\n",
    "\n",
    "# Return the path to the JSON file\n",
    "json_output_path"
   ]
  }
 ],
 "metadata": {
  "kernelspec": {
   "display_name": "base",
   "language": "python",
   "name": "python3"
  },
  "language_info": {
   "codemirror_mode": {
    "name": "ipython",
    "version": 3
   },
   "file_extension": ".py",
   "mimetype": "text/x-python",
   "name": "python",
   "nbconvert_exporter": "python",
   "pygments_lexer": "ipython3",
   "version": "3.11.4"
  }
 },
 "nbformat": 4,
 "nbformat_minor": 2
}
