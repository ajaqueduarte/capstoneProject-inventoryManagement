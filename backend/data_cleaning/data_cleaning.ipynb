{
 "cells": [
  {
   "cell_type": "code",
   "execution_count": 32,
   "metadata": {},
   "outputs": [],
   "source": [
    "import os\n",
    "import pandas as pd\n",
    "import openpyxl\n",
    "from datetime import datetime\n",
    "\n",
    "# Directory paths\n",
    "sales_mix_directory = 'sales_mix'\n",
    "\n",
    "# Dictionary to hold the data\n",
    "date_product_data = {}"
   ]
  },
  {
   "cell_type": "code",
   "execution_count": 34,
   "metadata": {},
   "outputs": [],
   "source": [
    "# Process each file\n",
    "for file_name in os.listdir(sales_mix_directory):\n",
    "    if file_name.endswith('.xlsx'):\n",
    "        file_path = os.path.join(sales_mix_directory, file_name)\n",
    "        \n",
    "        # Load the workbook and get the active sheet\n",
    "        wb = openpyxl.load_workbook(file_path, data_only=True)\n",
    "        ws = wb.active\n",
    "        \n",
    "        # Find the header row. Assuming 'Name' and 'Quantity Sold' could be in any column.\n",
    "        header_row_idx = None\n",
    "        for rowIndex, row in enumerate(ws.iter_rows(values_only=True), start=1):\n",
    "            if 'Name' in row and 'Quantity Sold' in row:\n",
    "                header_row_idx = rowIndex\n",
    "                headers = [cell for cell in row if cell is not None]\n",
    "                name_idx = headers.index('Name')\n",
    "                quantity_sold_idx = headers.index('Quantity Sold')\n",
    "                break\n",
    "        \n",
    "        if header_row_idx is None:\n",
    "            raise ValueError(f\"'Name' and 'Quantity Sold' columns not found in the file: {file_name}\")\n",
    "        \n",
    "        # Parse the date from the filename\n",
    "        date_part = ' '.join(file_name.split(' ')[2:4]).replace(' - Copy', '')\n",
    "        \n",
    "        # Initialize the dictionary for the day if not already done\n",
    "        if date_part not in date_product_data:\n",
    "            date_product_data[date_part] = {}\n",
    "            \n",
    "        # Extracting data for each product\n",
    "        for row in ws.iter_rows(min_row=header_row_idx+1, values_only=True):\n",
    "            product_name = row[name_idx]\n",
    "            quantity_sold = row[quantity_sold_idx] or 0  # Use 0 if None\n",
    "            \n",
    "            # Skip products based on names to remove or containing specific patterns\n",
    "            names_to_remove = [\n",
    "                \"Total\", \"Smoothie\", \"Classic\", \"Hi Protein\", \"Spirit\", \"Superfood Plus\",\n",
    "                \"Superfood\", \"Refresh\", \"Combo\", \"Regular Combo\", \"Snack Combo\",\n",
    "                \"Ingredients (Smoothie)\", \"NO BOOSTER\", \"No Froyo\", \"No Yogurt\",\n",
    "                \"Secret/Feature\", \"Specialty\", \"Shot\", \"Condiments (Booster Ball)\",\n",
    "                \"Booster Ball\", \"Booster Blends\", \"Grilled Fresh\", \"Lunch\", \"Breakfast\",\n",
    "                \"Merchandise\", \"Retail\", \"Fresh Juice\", \"Condiments (Fresh Juice)\",\n",
    "                \"Instructions\", \"Condiments (Inst.)\", \"ALLERGY: tree nuts\",\n",
    "                \"No Raspberry\", \"Special Prep\", \"whole wheat\", \"Allergy: \", \"Split In 2 Cups\", \"Don't Make\", \"Almighty Acai Blend\", \"Condiments (Retail/Merchandise)\"\n",
    ", \"Chipotle\"                ]\n",
    "            \n",
    "            if any(pattern.lower() in product_name.lower() for pattern in ['allergy', 'combo', '$', 'add', 'No']):\n",
    "                continue\n",
    "            if product_name in names_to_remove:\n",
    "                continue\n",
    "            \n",
    "            # Add the quantity sold to the dictionary\n",
    "            date_product_data[date_part][product_name] = date_product_data[date_part].get(product_name, 0) + quantity_sold\n",
    "\n"
   ]
  },
  {
   "cell_type": "code",
   "execution_count": 35,
   "metadata": {},
   "outputs": [],
   "source": [
    "# Convert the dictionary to a DataFrame and transpose\n",
    "product_sales_df = pd.DataFrame.from_dict(date_product_data, orient='columns')\n"
   ]
  },
  {
   "cell_type": "code",
   "execution_count": 36,
   "metadata": {},
   "outputs": [],
   "source": [
    "# Filter out unwanted product names and transpose the DataFrame\n",
    "product_sales_df = product_sales_df.drop(index=names_to_remove, errors='ignore').transpose()\n",
    "\n"
   ]
  },
  {
   "cell_type": "code",
   "execution_count": 38,
   "metadata": {},
   "outputs": [],
   "source": [
    "# Now save the transposed DataFrame\n",
    "output_excel_path = 'sales_mix_clean_open/combined_sales_data.xlsx'\n",
    "product_sales_df.to_excel(output_excel_path, index_label='Date')\n"
   ]
  },
  {
   "cell_type": "code",
   "execution_count": 39,
   "metadata": {},
   "outputs": [],
   "source": [
    "# Convert the DataFrame to JSON, with product names as keys (index)\n",
    "output_json = product_sales_df.to_json(orient='index')"
   ]
  },
  {
   "cell_type": "code",
   "execution_count": 40,
   "metadata": {},
   "outputs": [
    {
     "data": {
      "text/plain": [
       "'sales_mix_clean_open/combined_sales_data.json'"
      ]
     },
     "execution_count": 40,
     "metadata": {},
     "output_type": "execute_result"
    }
   ],
   "source": [
    "# Save the JSON to a file\n",
    "output_json_path = 'sales_mix_clean_open/combined_sales_data.json'\n",
    "with open(output_json_path, 'w') as f:\n",
    "    f.write(output_json)\n",
    "\n",
    "# Output the path of the new JSON file\n",
    "output_json_path"
   ]
  }
 ],
 "metadata": {
  "kernelspec": {
   "display_name": "base",
   "language": "python",
   "name": "python3"
  },
  "language_info": {
   "codemirror_mode": {
    "name": "ipython",
    "version": 3
   },
   "file_extension": ".py",
   "mimetype": "text/x-python",
   "name": "python",
   "nbconvert_exporter": "python",
   "pygments_lexer": "ipython3",
   "version": "3.11.4"
  }
 },
 "nbformat": 4,
 "nbformat_minor": 2
}
