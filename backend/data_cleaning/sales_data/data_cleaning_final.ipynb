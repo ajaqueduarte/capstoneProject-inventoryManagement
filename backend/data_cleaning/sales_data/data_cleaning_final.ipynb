{
 "cells": [
  {
   "cell_type": "code",
   "execution_count": 59,
   "metadata": {},
   "outputs": [],
   "source": [
    "import os\n",
    "import pandas as pd\n",
    "import openpyxl\n",
    "from datetime import datetime\n",
    "\n",
    "# Directory paths\n",
    "sales_mix_directory = 'sales_mix'\n",
    "\n",
    "# Dictionary to hold the data\n",
    "date_product_data = {}"
   ]
  },
  {
   "cell_type": "code",
   "execution_count": 73,
   "metadata": {},
   "outputs": [
    {
     "name": "stderr",
     "output_type": "stream",
     "text": [
      "/Users/jaqueduarte/anaconda3/lib/python3.11/site-packages/openpyxl/styles/stylesheet.py:226: UserWarning: Workbook contains no default style, apply openpyxl's default\n",
      "  warn(\"Workbook contains no default style, apply openpyxl's default\")\n"
     ]
    }
   ],
   "source": [
    "# Process each file\n",
    "for file_name in os.listdir(sales_mix_directory):\n",
    "    if file_name.endswith('.xlsx'):\n",
    "        file_path = os.path.join(sales_mix_directory, file_name)\n",
    "        \n",
    "        # Load the workbook and get the active sheet\n",
    "        wb = openpyxl.load_workbook(file_path, data_only=True)\n",
    "        ws = wb.active\n",
    "        \n",
    "        # Find the header row. Assuming 'Name' and 'Quantity Sold' could be in any column.\n",
    "        header_row_idx = None\n",
    "        for rowIndex, row in enumerate(ws.iter_rows(values_only=True), start=1):\n",
    "            if 'Name' in row and 'Quantity Sold' in row:\n",
    "                header_row_idx = rowIndex\n",
    "                headers = [cell for cell in row if cell is not None]\n",
    "                name_idx = headers.index('Name')\n",
    "                quantity_sold_idx = headers.index('Quantity Sold')\n",
    "                break\n",
    "        \n",
    "        if header_row_idx is None:\n",
    "            raise ValueError(f\"'Name' and 'Quantity Sold' columns not found in the file: {file_name}\")\n",
    "        \n",
    "        # Parse the date from the filename\n",
    "        date_part = ' '.join(file_name.split(' ')[2:4]).replace(' - Copy', '')\n",
    "        \n",
    "        # Initialize the dictionary for the day if not already done\n",
    "        if date_part not in date_product_data:\n",
    "            date_product_data[date_part] = {}\n",
    "            \n",
    "        # Extracting data for each product\n",
    "        for row in ws.iter_rows(min_row=header_row_idx+1, values_only=True):\n",
    "            product_name = row[name_idx]\n",
    "            quantity_sold = row[quantity_sold_idx] or 0  # Use 0 if None\n",
    "            \n",
    "            # Skip products based on names to remove or containing specific patterns\n",
    "            names_to_remove = [\n",
    "                \"Total\", \"Smoothie\", \"Classic\", \"Hi Protein\", \"Spirit\", \"Superfood Plus\",\n",
    "                \"Superfood\", \"Refresh\", \"Combo\", \"Regular Combo\", \"Snack Combo\",\n",
    "                \"Ingredients (Smoothie)\", \"NO BOOSTER\", \"No Froyo\", \"No Yogurt\",\"Pirates Nectar - R\",\"Pirates Nectar - S\",\"Hawaiian Sunset - R\",\"Hawaiian Sunset - S\",\"Acai Avalanche - R\",\n",
    "                \"Secret/Feature\", \"Specialty\", \"Shot\", \"Condiments (Booster Ball)\",\"Lemon Ginger Tumeric & Coconut S\",\"Lemon Ginger Tumeric and Coconut\",\"Ocean Mist - S\",\"Ocean Mist - R\",\"Gingerbread - R\",\"Wildberry Rush - R\",\"Mangosicle - R\",\"Mangosicle - S \",\"Oatrageous Mocha - S\",\"Oatrageous Mocha - R\",\n",
    "                \"Booster Ball\", \"Booster Blends\", \"Grilled Fresh\", \"Lunch\", \"Breakfast\",\"Macadamia Nut - Booster Ball\",\"Candy Cane - Booster Ball\",\"Birthday Cake - Booster Ball\",\"Apple, Lemon & Ginger Shot - S\",\n",
    "                \"Merchandise\", \"Retail\", \"Fresh Juice\", \"Condiments (Fresh Juice)\",\"Egg White & Chorizo Wrap\",\"Egg White & Cheese Wrap\",\"Chocolate Peanut - Protein & Co\",\"Caramel Cashew - Protein & Co\",\"Mango Teazer - TB\",\"Monster - Booster Ball\",\n",
    "                \"Instructions\", \"Condiments (Inst.)\", \"Grilled Cheese\", \"Canadian Maple - Booster Ball\",\"Go Mango - R\", \"Wildberry Rush - S\",\"Chipotle Steak Panini\", \"Raspberry Rapture - R\",\"Gingerbread - S\",\"Artisan Grilled Cheese\",\n",
    "                \"No Raspberry\", \"Special Prep\", \"whole wheat\", \"Split In 2 Cups\", \"Don't Make\", \"Almighty Acai Blend\", \"Condiments (Retail/Merchandise)\", \"Chipotle\"]\n",
    "            \n",
    "            if any(pattern.lower() in product_name.lower() for pattern in ['allergy', 'combo', '$', 'add', 'No']):\n",
    "                continue\n",
    "            if product_name in names_to_remove:\n",
    "                continue\n",
    "            \n",
    "            # Add the quantity sold to the dictionary\n",
    "            date_product_data[date_part][product_name] = date_product_data[date_part].get(product_name, 0) + quantity_sold\n"
   ]
  },
  {
   "cell_type": "code",
   "execution_count": 74,
   "metadata": {},
   "outputs": [],
   "source": [
    "# Convert the dictionary to a DataFrame and transpose\n",
    "product_sales_df = pd.DataFrame.from_dict(date_product_data, orient='columns')"
   ]
  },
  {
   "cell_type": "code",
   "execution_count": 75,
   "metadata": {},
   "outputs": [],
   "source": [
    "# Filter out unwanted product names and transpose the DataFrame\n",
    "product_sales_df = product_sales_df.drop(index=names_to_remove, errors='ignore').transpose()\n",
    "\n",
    "# product_sales_df.index = pd.to_datetime(product_sales_df.index + ', 2024', format='%b %d, %Y')\n"
   ]
  },
  {
   "cell_type": "code",
   "execution_count": 76,
   "metadata": {},
   "outputs": [],
   "source": [
    "# product_sales_df.index = pd.to_datetime(product_sales_df.index + ', 2024', format='%b %d, %Y')\n"
   ]
  },
  {
   "cell_type": "code",
   "execution_count": 81,
   "metadata": {},
   "outputs": [],
   "source": [
    "def add_correct_year(date_str):\n",
    "    date = pd.to_datetime(date_str)\n",
    "    if date.month == 12:\n",
    "        return date.replace(year=2023)\n",
    "    else:\n",
    "        return date.replace(year=2024)\n",
    "\n",
    "# Apply the function to the index\n",
    "product_sales_df.index = pd.to_datetime(product_sales_df.index)  # Ensure the index is in datetime format\n",
    "product_sales_df.index = product_sales_df.index.map(add_correct_year)\n",
    "\n",
    "# Sort the dataframe by index (date)\n",
    "product_sales_df.sort_index(inplace=True)\n",
    "\n"
   ]
  },
  {
   "cell_type": "code",
   "execution_count": 87,
   "metadata": {},
   "outputs": [],
   "source": [
    "\n",
    "# Convert NaN values to 0\n",
    "product_sales_df = product_sales_df.fillna(0)\n",
    "\n",
    "# Replace negative values with 0 and convert types from float to integer\n",
    "product_sales_df = product_sales_df.clip(lower=0).astype(int)"
   ]
  },
  {
   "cell_type": "code",
   "execution_count": 88,
   "metadata": {},
   "outputs": [],
   "source": [
    "# Now save the transposed DataFrame\n",
    "output_excel_path = 'sales_mix_clean_open/combined_sales_data.csv'\n",
    "product_sales_df.to_csv(output_excel_path, index_label='Date')"
   ]
  },
  {
   "cell_type": "code",
   "execution_count": 89,
   "metadata": {},
   "outputs": [],
   "source": [
    "# Convert the transposed DataFrame to JSON\n",
    "json_result = product_sales_df.to_json(orient='columns', date_format='iso')\n",
    "\n",
    "# Write the JSON output to a file\n",
    "json_output_path = 'sales_mix_clean_open/combined_sales_data.json'\n",
    "with open(json_output_path, 'w') as json_file:\n",
    "    json_file.write(json_result)"
   ]
  },
  {
   "cell_type": "code",
   "execution_count": 90,
   "metadata": {},
   "outputs": [
    {
     "name": "stdout",
     "output_type": "stream",
     "text": [
      "datetime64[ns]\n",
      "_________________________\n",
      "Nuttin' Better - R                int64\n",
      "Banana's A Whey - R               int64\n",
      "Ripped Berry - R                  int64\n",
      "Strawberry Storm - R              int64\n",
      "High Impact Acai - R              int64\n",
      "Mind Over Matcha - R              int64\n",
      "Pomegranate Punch - R             int64\n",
      "Tropical Tornado - R              int64\n",
      "Strawberry Sunshine - R           int64\n",
      "Strawberry Sunshine - S           int64\n",
      "Mango Hurricane - R               int64\n",
      "Tropical Tornado - S              int64\n",
      "Very Berry - S                    int64\n",
      "Mango Hurricane - S               int64\n",
      "Very Berry - R                    int64\n",
      "Funky Monkey - R                  int64\n",
      "Pineapple Freeze - R              int64\n",
      "Berry Cream Sensation - S         int64\n",
      "Canadian Colada - R               int64\n",
      "Funky Monkey - S                  int64\n",
      "Pineapple Freeze - S              int64\n",
      "Berry Cream Sensation - R         int64\n",
      "Tropi-Kale - R                    int64\n",
      "Coco Crush - R                    int64\n",
      "Tropi-Kale - S                    int64\n",
      "Spinach is in it - S              int64\n",
      "Spinach is in it - R              int64\n",
      "Lemon Berry - R                   int64\n",
      "Energy Booster                    int64\n",
      "Power Booster                     int64\n",
      "Warrior Booster                   int64\n",
      "Wilderness Booster                int64\n",
      "Brazilian Thunder - R             int64\n",
      "Pomegranate Passion - S           int64\n",
      "Brazilian Thunder - S             int64\n",
      "Matcha Monsoon - S                int64\n",
      "Pomegranate Passion - R           int64\n",
      "Matcha Monsoon - R                int64\n",
      "Booster Ball (2)                  int64\n",
      "Booster Ball (1)                  int64\n",
      "Booster Ball (4)                  int64\n",
      "Booster Ball (3)                  int64\n",
      "Lemon & Ginger Shot - D           int64\n",
      "Chocolate Chip - Booster Ball     int64\n",
      "Oatmeal Coconut - Booster Ball    int64\n",
      "\"Protein & Co\" Bar                int64\n",
      "Drink - Bottled Water - 500 ml    int64\n",
      "Chipotle Chicken Wrap             int64\n",
      "Chipotle Chicken Panini           int64\n",
      "Chicken Quesadilla                int64\n",
      "Pesto Chicken Panini              int64\n",
      "Matcha On My Mind Blend           int64\n",
      "Canadian Colada - S               int64\n",
      "Coco Crush - S                    int64\n",
      "Lemon Berry - S                   int64\n",
      "Density Booster                   int64\n",
      "Lemon & Ginger Shot - S           int64\n",
      "Raspberry Rapture - S             int64\n",
      "Banango Burst - R                 int64\n",
      "dtype: object\n"
     ]
    }
   ],
   "source": [
    "print(product_sales_df.index.dtype)\n",
    "print(\"_________________________\")\n",
    "print(product_sales_df.head().dtypes)"
   ]
  }
 ],
 "metadata": {
  "kernelspec": {
   "display_name": "base",
   "language": "python",
   "name": "python3"
  },
  "language_info": {
   "codemirror_mode": {
    "name": "ipython",
    "version": 3
   },
   "file_extension": ".py",
   "mimetype": "text/x-python",
   "name": "python",
   "nbconvert_exporter": "python",
   "pygments_lexer": "ipython3",
   "version": "3.11.4"
  }
 },
 "nbformat": 4,
 "nbformat_minor": 2
}
